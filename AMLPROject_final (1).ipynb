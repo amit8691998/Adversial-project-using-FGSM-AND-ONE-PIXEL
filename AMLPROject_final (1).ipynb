{
  "cells": [
    {
      "cell_type": "code",
      "execution_count": null,
      "metadata": {
        "id": "p-NI9PIhUE5W",
        "colab": {
          "base_uri": "https://localhost:8080/"
        },
        "outputId": "fdb19bda-7eed-48ad-9daf-14517ad6b9fb"
      },
      "outputs": [
        {
          "output_type": "stream",
          "name": "stdout",
          "text": [
            "Downloading data from https://www.cs.toronto.edu/~kriz/cifar-10-python.tar.gz\n",
            "170498071/170498071 [==============================] - 2s 0us/step\n"
          ]
        }
      ],
      "source": [
        "import numpy as np\n",
        "import tensorflow as tf\n",
        "from tensorflow import keras\n",
        "from tensorflow.keras import layers\n",
        "import matplotlib.pyplot as plt\n",
        "from tensorflow.keras.datasets import cifar10\n",
        "\n",
        "\n",
        "(x_train, y_train), (x_test, y_test) = cifar10.load_data()\n",
        "tf.keras.preprocessing.image.save_img('file.png',x_train[0])\n",
        "\n",
        "\n",
        "x_train = x_train.astype(\"float32\") / 255.0\n",
        "x_test = x_test.astype(\"float32\") / 255.0\n",
        "\n",
        "# Convert the labels to one-hot encoded vectors\n",
        "y_train = keras.utils.to_categorical(y_train, 10)\n",
        "y_test = keras.utils.to_categorical(y_test, 10)\n"
      ]
    },
    {
      "cell_type": "code",
      "execution_count": null,
      "metadata": {
        "colab": {
          "base_uri": "https://localhost:8080/"
        },
        "id": "ew762dBvXIyE",
        "outputId": "cc8453ac-5a25-41db-8675-1c824720699b"
      },
      "outputs": [
        {
          "output_type": "execute_result",
          "data": {
            "text/plain": [
              "(10000, 32, 32, 3)"
            ]
          },
          "metadata": {},
          "execution_count": 2
        }
      ],
      "source": [
        "y_test.shape\n",
        "x_test.shape"
      ]
    },
    {
      "cell_type": "code",
      "execution_count": null,
      "metadata": {
        "id": "vo0hLsdEZaW2"
      },
      "outputs": [],
      "source": [
        "classes=['airplanes', 'cars', 'birds', 'cats', 'deer', 'dogs', 'frogs', 'horses', 'ships','trucks']"
      ]
    },
    {
      "cell_type": "code",
      "execution_count": null,
      "metadata": {
        "id": "89mQOUGegzV8"
      },
      "outputs": [],
      "source": []
    },
    {
      "cell_type": "code",
      "execution_count": null,
      "metadata": {
        "colab": {
          "base_uri": "https://localhost:8080/"
        },
        "id": "2fNEGYNsbwPl",
        "outputId": "0297a553-6b28-415e-f466-365dd4121177"
      },
      "outputs": [
        {
          "data": {
            "text/plain": [
              "array([0., 0., 0., 0., 0.], dtype=float32)"
            ]
          },
          "execution_count": 5,
          "metadata": {},
          "output_type": "execute_result"
        }
      ],
      "source": [
        "\n",
        "y"
      ]
    },
    {
      "cell_type": "code",
      "execution_count": null,
      "metadata": {
        "id": "DH2Dpjm9g7_l"
      },
      "outputs": [],
      "source": [
        "classes=[\"airplanes\", \"cars\", \"birds\", \"cats\", \"deer\", \"dogs\", \"frogs\", \"horses\", \"ships\",\"trucks\"]"
      ]
    },
    {
      "cell_type": "code",
      "execution_count": null,
      "metadata": {
        "colab": {
          "base_uri": "https://localhost:8080/",
          "height": 254
        },
        "id": "JuBnG3_3Sd4o",
        "outputId": "3e783fd6-f27e-493d-b8f0-7c6d2a840a37"
      },
      "outputs": [
        {
          "output_type": "execute_result",
          "data": {
            "text/plain": [
              "Text(0.5, 0, 'deer')"
            ]
          },
          "metadata": {},
          "execution_count": 4
        },
        {
          "output_type": "display_data",
          "data": {
            "text/plain": [
              "<Figure size 1000x200 with 1 Axes>"
            ],
            "image/png": "[encoded data removed]"
          },
          "metadata": {}
        }
      ],
      "source": [
        "plt.figure(figsize=(10,2))\n",
        "plt.imshow(x_train[10])\n",
        "#plt.xlabel(y_train[10])\n",
        "z=list(y_train[10])\n",
        "p=max(z)\n",
        "plt.xlabel(classes[z.index(p)])"
      ]
    },
    {
      "cell_type": "code",
      "execution_count": null,
      "metadata": {
        "id": "icZ4f7bcZ4kR"
      },
      "outputs": [],
      "source": []
    },
    {
      "cell_type": "code",
      "execution_count": null,
      "metadata": {
        "id": "5Vzh_fHEUgH8"
      },
      "outputs": [],
      "source": [
        "\n",
        "model = keras.Sequential(\n",
        "    [\n",
        "        keras.Input(shape=(32, 32, 3)),\n",
        "        layers.Conv2D(32, kernel_size=(3, 3), activation=\"relu\"),\n",
        "        layers.MaxPooling2D(pool_size=(2, 2)),\n",
        "        layers.Conv2D(64, kernel_size=(3, 3), activation=\"relu\"),\n",
        "        layers.MaxPooling2D(pool_size=(2, 2)),\n",
        "        layers.Flatten(),\n",
        "         layers.Dropout(0.5),\n",
        "        layers.Dense(10, activation=\"softmax\"),\n",
        "    ]\n",
        ")\n",
        "\n",
        "model.compile(loss=\"categorical_crossentropy\", optimizer=\"adam\", metrics=[\"accuracy\"])\n"
      ]
    },
    {
      "cell_type": "code",
      "execution_count": null,
      "metadata": {
        "colab": {
          "base_uri": "https://localhost:8080/"
        },
        "id": "bDrB6Ke2UjXl",
        "outputId": "179e673e-082c-4333-b4ed-0f6e5fd8e0f8"
      },
      "outputs": [
        {
          "output_type": "stream",
          "name": "stdout",
          "text": [
            "Epoch 1/20\n",
            "391/391 [==============================] - 76s 190ms/step - loss: 1.6775 - accuracy: 0.3930 - val_loss: 1.3875 - val_accuracy: 0.5128\n",
            "Epoch 2/20\n",
            "391/391 [==============================] - 64s 163ms/step - loss: 1.3766 - accuracy: 0.5096 - val_loss: 1.2652 - val_accuracy: 0.5614\n",
            "Epoch 3/20\n",
            "391/391 [==============================] - 62s 158ms/step - loss: 1.2804 - accuracy: 0.5486 - val_loss: 1.1733 - val_accuracy: 0.5932\n",
            "Epoch 4/20\n",
            "391/391 [==============================] - 62s 158ms/step - loss: 1.2107 - accuracy: 0.5744 - val_loss: 1.1121 - val_accuracy: 0.6181\n",
            "Epoch 5/20\n",
            "391/391 [==============================] - 63s 160ms/step - loss: 1.1560 - accuracy: 0.5944 - val_loss: 1.0753 - val_accuracy: 0.6310\n",
            "Epoch 6/20\n",
            "391/391 [==============================] - 60s 154ms/step - loss: 1.1180 - accuracy: 0.6108 - val_loss: 1.0463 - val_accuracy: 0.6428\n",
            "Epoch 7/20\n",
            "391/391 [==============================] - 64s 164ms/step - loss: 1.0851 - accuracy: 0.6220 - val_loss: 1.0073 - val_accuracy: 0.6526\n",
            "Epoch 8/20\n",
            "391/391 [==============================] - 64s 163ms/step - loss: 1.0553 - accuracy: 0.6323 - val_loss: 0.9947 - val_accuracy: 0.6581\n",
            "Epoch 9/20\n",
            "391/391 [==============================] - 64s 165ms/step - loss: 1.0317 - accuracy: 0.6434 - val_loss: 0.9685 - val_accuracy: 0.6694\n",
            "Epoch 10/20\n",
            "391/391 [==============================] - 62s 160ms/step - loss: 1.0068 - accuracy: 0.6514 - val_loss: 0.9451 - val_accuracy: 0.6744\n",
            "Epoch 11/20\n",
            "391/391 [==============================] - 65s 165ms/step - loss: 0.9917 - accuracy: 0.6551 - val_loss: 0.9227 - val_accuracy: 0.6873\n",
            "Epoch 12/20\n",
            "391/391 [==============================] - 65s 165ms/step - loss: 0.9752 - accuracy: 0.6619 - val_loss: 0.9315 - val_accuracy: 0.6882\n",
            "Epoch 13/20\n",
            "391/391 [==============================] - 62s 158ms/step - loss: 0.9571 - accuracy: 0.6683 - val_loss: 0.9314 - val_accuracy: 0.6801\n",
            "Epoch 14/20\n",
            "391/391 [==============================] - 62s 158ms/step - loss: 0.9460 - accuracy: 0.6742 - val_loss: 0.8975 - val_accuracy: 0.7010\n",
            "Epoch 15/20\n",
            "391/391 [==============================] - 61s 156ms/step - loss: 0.9332 - accuracy: 0.6757 - val_loss: 0.8906 - val_accuracy: 0.7000\n",
            "Epoch 16/20\n",
            "391/391 [==============================] - 63s 162ms/step - loss: 0.9185 - accuracy: 0.6830 - val_loss: 0.8859 - val_accuracy: 0.7009\n",
            "Epoch 17/20\n",
            "391/391 [==============================] - 61s 157ms/step - loss: 0.9081 - accuracy: 0.6861 - val_loss: 0.8640 - val_accuracy: 0.7053\n",
            "Epoch 18/20\n",
            "391/391 [==============================] - 61s 157ms/step - loss: 0.9024 - accuracy: 0.6887 - val_loss: 0.8621 - val_accuracy: 0.7073\n",
            "Epoch 19/20\n",
            "391/391 [==============================] - 60s 155ms/step - loss: 0.8879 - accuracy: 0.6920 - val_loss: 0.8590 - val_accuracy: 0.7124\n",
            "Epoch 20/20\n",
            "391/391 [==============================] - 59s 152ms/step - loss: 0.8799 - accuracy: 0.6976 - val_loss: 0.8431 - val_accuracy: 0.7203\n"
          ]
        },
        {
          "output_type": "execute_result",
          "data": {
            "text/plain": [
              "<keras.callbacks.History at 0x7f47f3f2beb0>"
            ]
          },
          "metadata": {},
          "execution_count": 6
        }
      ],
      "source": [
        "\n",
        "model.fit(x_train, y_train, batch_size=128, epochs=20, validation_data=(x_test, y_test))\n"
      ]
    },
    {
      "cell_type": "code",
      "execution_count": null,
      "metadata": {
        "id": "dM0MY5NcUpZ_"
      },
      "outputs": [],
      "source": [
        "def generate_adversarial_examples(model, x, y, eps=0.01):\n",
        "    # Calculate the loss and gradient of the model with respect to the input\n",
        "    loss_object = keras.losses.CategoricalCrossentropy()\n",
        "    with tf.GradientTape() as tape:\n",
        "        tape.watch(x)\n",
        "        predictions = model(x)\n",
        "        loss = loss_object(y, predictions)\n",
        "    gradient = tape.gradient(loss, x)\n",
        "\n",
        "    \n",
        "    signed_grad = tf.sign(gradient)\n",
        "    perturbed_x = x + eps * signed_grad\n",
        "    perturbed_x = tf.clip_by_value(perturbed_x, 0, 1)\n",
        "\n",
        "    return perturbed_x\n"
      ]
    },
    {
      "cell_type": "code",
      "execution_count": null,
      "metadata": {
        "id": "BZ8C5Wb5UIQD"
      },
      "outputs": [],
      "source": []
    },
    {
      "cell_type": "code",
      "execution_count": null,
      "metadata": {
        "id": "mpnnJvYnUvoE"
      },
      "outputs": [],
      "source": [
        "x_test_tf = tf.convert_to_tensor(x_test, dtype=tf.float32)\n",
        "y_test_tf = tf.convert_to_tensor(y_test, dtype=tf.float32)\n",
        "\n",
        "x_test_adv = generate_adversarial_examples(model, x_test_tf, y_test_tf)\n",
        "#tf.keras.preprocessing.image.save_img('file.png',x_test_adv)\n",
        "\n",
        "\n"
      ]
    },
    {
      "cell_type": "code",
      "execution_count": null,
      "metadata": {
        "colab": {
          "base_uri": "https://localhost:8080/"
        },
        "id": "9cuf4f0RD9SG",
        "outputId": "02eede23-71ad-4b69-9093-599e2f8c31d6"
      },
      "outputs": [
        {
          "output_type": "stream",
          "name": "stdout",
          "text": [
            "313/313 [==============================] - 3s 11ms/step\n"
          ]
        },
        {
          "output_type": "execute_result",
          "data": {
            "text/plain": [
              "Text(0.5, 0, 'deer')"
            ]
          },
          "metadata": {},
          "execution_count": 9
        },
        {
          "output_type": "display_data",
          "data": {
            "text/plain": [
              "<Figure size 1000x200 with 1 Axes>"
            ],
            "image/png": "[encoded data removed]"
          },
          "metadata": {}
        }
      ],
      "source": [
        "plt.figure(figsize=(10,2))\n",
        "plt.imshow(x_test[100])\n",
        "p=model.predict(x_test)\n",
        "z=list(p[100])\n",
        "p=max(z)\n",
        "plt.xlabel(classes[z.index(p)])\n"
      ]
    },
    {
      "cell_type": "code",
      "execution_count": null,
      "metadata": {
        "id": "CjkGVJcntkzX"
      },
      "outputs": [],
      "source": []
    },
    {
      "cell_type": "code",
      "execution_count": null,
      "metadata": {
        "colab": {
          "base_uri": "https://localhost:8080/"
        },
        "id": "b0OAfOiuURq0",
        "outputId": "cb9d224a-e731-4279-d073-892b47d0e0c1"
      },
      "outputs": [
        {
          "output_type": "stream",
          "name": "stdout",
          "text": [
            "313/313 [==============================] - 3s 11ms/step\n"
          ]
        },
        {
          "output_type": "execute_result",
          "data": {
            "text/plain": [
              "Text(0.5, 0, 'horses')"
            ]
          },
          "metadata": {},
          "execution_count": 10
        },
        {
          "output_type": "display_data",
          "data": {
            "text/plain": [
              "<Figure size 1000x200 with 1 Axes>"
            ],
            "image/png": "[encoded data removed]"
          },
          "metadata": {}
        }
      ],
      "source": [
        "plt.figure(figsize=(10,2))\n",
        "plt.imshow(x_test_adv[100])\n",
        "p=model.predict(x_test_adv)\n",
        "z=list(p[100])\n",
        "p=max(z)\n",
        "plt.xlabel(classes[z.index(p)])\n",
        "\n"
      ]
    },
    {
      "cell_type": "code",
      "execution_count": null,
      "metadata": {
        "id": "9jnm62qlU3sR",
        "colab": {
          "base_uri": "https://localhost:8080/"
        },
        "outputId": "f74b072a-c9af-40ca-96b4-8512ac6e5916"
      },
      "outputs": [
        {
          "output_type": "stream",
          "name": "stdout",
          "text": [
            "313/313 [==============================] - 4s 13ms/step - loss: 2.0658 - accuracy: 0.3066\n"
          ]
        },
        {
          "output_type": "execute_result",
          "data": {
            "text/plain": [
              "[2.0658304691314697, 0.30660000443458557]"
            ]
          },
          "metadata": {},
          "execution_count": 11
        }
      ],
      "source": [
        "# Evaluate the model on the adversarial examples\n",
        "model.evaluate(x_test_adv, y_test)\n"
      ]
    },
    {
      "cell_type": "code",
      "execution_count": null,
      "metadata": {
        "colab": {
          "base_uri": "https://localhost:8080/"
        },
        "id": "G1PC_tK-Vz39",
        "outputId": "42db1823-69ca-4f98-8a5a-5ebf4e6361cd"
      },
      "outputs": [
        {
          "output_type": "stream",
          "name": "stdout",
          "text": [
            "313/313 [==============================] - 4s 11ms/step\n"
          ]
        },
        {
          "output_type": "display_data",
          "data": {
            "text/plain": [
              "<Figure size 640x480 with 1 Axes>"
            ],
            "image/png": "[encoded data removed]"
          },
          "metadata": {}
        }
      ],
      "source": [
        "import matplotlib.pyplot as plt\n",
        "from sklearn.metrics import roc_curve, auc\n",
        "\n",
        "# Generate predictions for the test data\n",
        "y_pred = model.predict(x_test_adv)\n",
        "\n",
        "# Compute the false positive rate and true positive rate for class 0\n",
        "fpr, tpr, _ = roc_curve(y_test[:, 0], y_pred[:, 0])\n",
        "\n",
        "# Compute the area under the ROC curve\n",
        "roc_auc = auc(fpr, tpr)\n",
        "\n",
        "# Plot the ROC curve\n",
        "plt.figure()\n",
        "plt.plot(fpr, tpr, label='ROC curve (area = %0.2f)' % roc_auc)\n",
        "plt.plot([0, 1], [0, 1], 'k--')\n",
        "plt.xlim([0.0, 1.0])\n",
        "plt.ylim([0.0, 1.05])\n",
        "plt.xlabel('False Positive Rate')\n",
        "plt.ylabel('True Positive Rate')\n",
        "plt.title('Receiver Operating Characteristic')\n",
        "plt.legend(loc=\"lower right\")\n",
        "plt.show()\n"
      ]
    },
    {
      "cell_type": "code",
      "execution_count": null,
      "metadata": {
        "id": "YPxooQti5-xN",
        "colab": {
          "base_uri": "https://localhost:8080/"
        },
        "outputId": "bf6122fe-3c83-4c28-8570-9c051017339a"
      },
      "outputs": [
        {
          "output_type": "stream",
          "name": "stdout",
          "text": [
            "1/1 [==============================] - 0s 22ms/step\n",
            "1/1 [==============================] - 0s 24ms/step\n"
          ]
        },
        {
          "output_type": "stream",
          "name": "stderr",
          "text": [
            "WARNING:matplotlib.image:Clipping input data to the valid range for imshow with RGB data ([0..1] for floats or [0..255] for integers).\n"
          ]
        },
        {
          "output_type": "stream",
          "name": "stdout",
          "text": [
            "Adversarial attack failed.\n"
          ]
        },
        {
          "output_type": "display_data",
          "data": {
            "text/plain": [
              "<Figure size 500x200 with 2 Axes>"
            ],
            "image/png": "[encoded data removed]"
          },
          "metadata": {}
        }
      ],
      "source": [
        "items = [\"airplane\", \"automobile\", \"bird\", \"cat\", \"deer\", \"dog\", \"frog\", \"horse\", \"ship\", \"truck\"]\n",
        "\n",
        "target_class = 3\n",
        "\n",
        "# Select a random image from the test set\n",
        "image_index = np.random.randint(len(x_test))\n",
        "original_image = x_test[image_index]\n",
        "original_label = items[np.argmax(model.predict(np.expand_dims(original_image, axis=0)))]\n",
        "\n",
        "# Generate random coordinates and color for the perturbation\n",
        "pixel_index = np.random.randint(32, size=(2))\n",
        "perturbation_color = np.random.randint(256, size=(3))\n",
        "\n",
        "# Modify the selected pixel with the perturbation color\n",
        "perturbed_image = np.copy(original_image)\n",
        "perturbed_image[pixel_index[0], pixel_index[1]] = perturbation_color\n",
        "\n",
        "# Predict the label for the perturbed image\n",
        "perturbed_label = items[np.argmax(model.predict(np.expand_dims(perturbed_image, axis=0)))]\n",
        "\n",
        "# Check if the perturbation succeeded in changing the label\n",
        "if perturbed_label == target_class:\n",
        "    print('Adversarial attack succeeded!')\n",
        "else:\n",
        "    print('Adversarial attack failed.')\n",
        "\n",
        "# Display the original and perturbed images\n",
        "import matplotlib.pyplot as plt\n",
        "\n",
        "plt.figure(figsize=(5, 2))\n",
        "plt.subplot(1, 2, 1)\n",
        "plt.imshow(original_image)\n",
        "plt.title(f'Original\\nClass: {original_label}')\n",
        "plt.axis('off')\n",
        "\n",
        "plt.subplot(1, 2, 2)\n",
        "plt.imshow(perturbed_image)\n",
        "plt.title(f'Perturbed\\nClass: {perturbed_label}')\n",
        "plt.axis('off')\n",
        "\n",
        "plt.show()"
      ]
    }
  ],
  "metadata": {
    "colab": {
      "provenance": []
    },
    "kernelspec": {
      "display_name": "Python 3",
      "name": "python3"
    },
    "language_info": {
      "name": "python"
    }
  },
  "nbformat": 4,
  "nbformat_minor": 0
}